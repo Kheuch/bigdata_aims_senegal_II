{
 "metadata": {
  "name": "",
  "signature": "sha256:432d7d433579a037f6c765b76db9a4078b691892ea052097494e7ae6324f5a94"
 },
 "nbformat": 3,
 "nbformat_minor": 0,
 "worksheets": [
  {
   "cells": [
    {
     "cell_type": "markdown",
     "metadata": {},
     "source": [
      "<h1> K-Nearest Neighbors</h1>\n",
      "\n",
      "<p>An example of the nearest neighbor algorithm application using the well known iris dataset</p>\n",
      "<p>First we import the dataset</p>"
     ]
    },
    {
     "cell_type": "code",
     "collapsed": false,
     "input": [
      "import numpy as np\n",
      "import matplotlib.pyplot as plt\n",
      "%matplotlib inline\n",
      "\n",
      "from sklearn.datasets import load_iris\n",
      "iris = load_iris()\n",
      "iris.keys()"
     ],
     "language": "python",
     "metadata": {},
     "outputs": [
      {
       "metadata": {},
       "output_type": "pyout",
       "prompt_number": 2,
       "text": [
        "['target_names', 'data', 'target', 'DESCR', 'feature_names']"
       ]
      }
     ],
     "prompt_number": 2
    },
    {
     "cell_type": "markdown",
     "metadata": {},
     "source": [
      "<p>Then the algorithm itself</p>"
     ]
    },
    {
     "cell_type": "code",
     "collapsed": false,
     "input": [
      "iris"
     ],
     "language": "python",
     "metadata": {},
     "outputs": [
      {
       "metadata": {},
       "output_type": "pyout",
       "prompt_number": 3,
       "text": [
        "{'DESCR': 'Iris Plants Database\\n\\nNotes\\n-----\\nData Set Characteristics:\\n    :Number of Instances: 150 (50 in each of three classes)\\n    :Number of Attributes: 4 numeric, predictive attributes and the class\\n    :Attribute Information:\\n        - sepal length in cm\\n        - sepal width in cm\\n        - petal length in cm\\n        - petal width in cm\\n        - class:\\n                - Iris-Setosa\\n                - Iris-Versicolour\\n                - Iris-Virginica\\n    :Summary Statistics:\\n    ============== ==== ==== ======= ===== ====================\\n                    Min  Max   Mean    SD   Class Correlation\\n    ============== ==== ==== ======= ===== ====================\\n    sepal length:   4.3  7.9   5.84   0.83    0.7826\\n    sepal width:    2.0  4.4   3.05   0.43   -0.4194\\n    petal length:   1.0  6.9   3.76   1.76    0.9490  (high!)\\n    petal width:    0.1  2.5   1.20  0.76     0.9565  (high!)\\n    ============== ==== ==== ======= ===== ====================\\n    :Missing Attribute Values: None\\n    :Class Distribution: 33.3% for each of 3 classes.\\n    :Creator: R.A. Fisher\\n    :Donor: Michael Marshall (MARSHALL%PLU@io.arc.nasa.gov)\\n    :Date: July, 1988\\n\\nThis is a copy of UCI ML iris datasets.\\nhttp://archive.ics.uci.edu/ml/datasets/Iris\\n\\nThe famous Iris database, first used by Sir R.A Fisher\\n\\nThis is perhaps the best known database to be found in the\\npattern recognition literature.  Fisher\\'s paper is a classic in the field and\\nis referenced frequently to this day.  (See Duda & Hart, for example.)  The\\ndata set contains 3 classes of 50 instances each, where each class refers to a\\ntype of iris plant.  One class is linearly separable from the other 2; the\\nlatter are NOT linearly separable from each other.\\n\\nReferences\\n----------\\n   - Fisher,R.A. \"The use of multiple measurements in taxonomic problems\"\\n     Annual Eugenics, 7, Part II, 179-188 (1936); also in \"Contributions to\\n     Mathematical Statistics\" (John Wiley, NY, 1950).\\n   - Duda,R.O., & Hart,P.E. (1973) Pattern Classification and Scene Analysis.\\n     (Q327.D83) John Wiley & Sons.  ISBN 0-471-22361-1.  See page 218.\\n   - Dasarathy, B.V. (1980) \"Nosing Around the Neighborhood: A New System\\n     Structure and Classification Rule for Recognition in Partially Exposed\\n     Environments\".  IEEE Transactions on Pattern Analysis and Machine\\n     Intelligence, Vol. PAMI-2, No. 1, 67-71.\\n   - Gates, G.W. (1972) \"The Reduced Nearest Neighbor Rule\".  IEEE Transactions\\n     on Information Theory, May 1972, 431-433.\\n   - See also: 1988 MLC Proceedings, 54-64.  Cheeseman et al\"s AUTOCLASS II\\n     conceptual clustering system finds 3 classes in the data.\\n   - Many, many more ...\\n',\n",
        " 'data': array([[ 5.1,  3.5,  1.4,  0.2],\n",
        "        [ 4.9,  3. ,  1.4,  0.2],\n",
        "        [ 4.7,  3.2,  1.3,  0.2],\n",
        "        [ 4.6,  3.1,  1.5,  0.2],\n",
        "        [ 5. ,  3.6,  1.4,  0.2],\n",
        "        [ 5.4,  3.9,  1.7,  0.4],\n",
        "        [ 4.6,  3.4,  1.4,  0.3],\n",
        "        [ 5. ,  3.4,  1.5,  0.2],\n",
        "        [ 4.4,  2.9,  1.4,  0.2],\n",
        "        [ 4.9,  3.1,  1.5,  0.1],\n",
        "        [ 5.4,  3.7,  1.5,  0.2],\n",
        "        [ 4.8,  3.4,  1.6,  0.2],\n",
        "        [ 4.8,  3. ,  1.4,  0.1],\n",
        "        [ 4.3,  3. ,  1.1,  0.1],\n",
        "        [ 5.8,  4. ,  1.2,  0.2],\n",
        "        [ 5.7,  4.4,  1.5,  0.4],\n",
        "        [ 5.4,  3.9,  1.3,  0.4],\n",
        "        [ 5.1,  3.5,  1.4,  0.3],\n",
        "        [ 5.7,  3.8,  1.7,  0.3],\n",
        "        [ 5.1,  3.8,  1.5,  0.3],\n",
        "        [ 5.4,  3.4,  1.7,  0.2],\n",
        "        [ 5.1,  3.7,  1.5,  0.4],\n",
        "        [ 4.6,  3.6,  1. ,  0.2],\n",
        "        [ 5.1,  3.3,  1.7,  0.5],\n",
        "        [ 4.8,  3.4,  1.9,  0.2],\n",
        "        [ 5. ,  3. ,  1.6,  0.2],\n",
        "        [ 5. ,  3.4,  1.6,  0.4],\n",
        "        [ 5.2,  3.5,  1.5,  0.2],\n",
        "        [ 5.2,  3.4,  1.4,  0.2],\n",
        "        [ 4.7,  3.2,  1.6,  0.2],\n",
        "        [ 4.8,  3.1,  1.6,  0.2],\n",
        "        [ 5.4,  3.4,  1.5,  0.4],\n",
        "        [ 5.2,  4.1,  1.5,  0.1],\n",
        "        [ 5.5,  4.2,  1.4,  0.2],\n",
        "        [ 4.9,  3.1,  1.5,  0.1],\n",
        "        [ 5. ,  3.2,  1.2,  0.2],\n",
        "        [ 5.5,  3.5,  1.3,  0.2],\n",
        "        [ 4.9,  3.1,  1.5,  0.1],\n",
        "        [ 4.4,  3. ,  1.3,  0.2],\n",
        "        [ 5.1,  3.4,  1.5,  0.2],\n",
        "        [ 5. ,  3.5,  1.3,  0.3],\n",
        "        [ 4.5,  2.3,  1.3,  0.3],\n",
        "        [ 4.4,  3.2,  1.3,  0.2],\n",
        "        [ 5. ,  3.5,  1.6,  0.6],\n",
        "        [ 5.1,  3.8,  1.9,  0.4],\n",
        "        [ 4.8,  3. ,  1.4,  0.3],\n",
        "        [ 5.1,  3.8,  1.6,  0.2],\n",
        "        [ 4.6,  3.2,  1.4,  0.2],\n",
        "        [ 5.3,  3.7,  1.5,  0.2],\n",
        "        [ 5. ,  3.3,  1.4,  0.2],\n",
        "        [ 7. ,  3.2,  4.7,  1.4],\n",
        "        [ 6.4,  3.2,  4.5,  1.5],\n",
        "        [ 6.9,  3.1,  4.9,  1.5],\n",
        "        [ 5.5,  2.3,  4. ,  1.3],\n",
        "        [ 6.5,  2.8,  4.6,  1.5],\n",
        "        [ 5.7,  2.8,  4.5,  1.3],\n",
        "        [ 6.3,  3.3,  4.7,  1.6],\n",
        "        [ 4.9,  2.4,  3.3,  1. ],\n",
        "        [ 6.6,  2.9,  4.6,  1.3],\n",
        "        [ 5.2,  2.7,  3.9,  1.4],\n",
        "        [ 5. ,  2. ,  3.5,  1. ],\n",
        "        [ 5.9,  3. ,  4.2,  1.5],\n",
        "        [ 6. ,  2.2,  4. ,  1. ],\n",
        "        [ 6.1,  2.9,  4.7,  1.4],\n",
        "        [ 5.6,  2.9,  3.6,  1.3],\n",
        "        [ 6.7,  3.1,  4.4,  1.4],\n",
        "        [ 5.6,  3. ,  4.5,  1.5],\n",
        "        [ 5.8,  2.7,  4.1,  1. ],\n",
        "        [ 6.2,  2.2,  4.5,  1.5],\n",
        "        [ 5.6,  2.5,  3.9,  1.1],\n",
        "        [ 5.9,  3.2,  4.8,  1.8],\n",
        "        [ 6.1,  2.8,  4. ,  1.3],\n",
        "        [ 6.3,  2.5,  4.9,  1.5],\n",
        "        [ 6.1,  2.8,  4.7,  1.2],\n",
        "        [ 6.4,  2.9,  4.3,  1.3],\n",
        "        [ 6.6,  3. ,  4.4,  1.4],\n",
        "        [ 6.8,  2.8,  4.8,  1.4],\n",
        "        [ 6.7,  3. ,  5. ,  1.7],\n",
        "        [ 6. ,  2.9,  4.5,  1.5],\n",
        "        [ 5.7,  2.6,  3.5,  1. ],\n",
        "        [ 5.5,  2.4,  3.8,  1.1],\n",
        "        [ 5.5,  2.4,  3.7,  1. ],\n",
        "        [ 5.8,  2.7,  3.9,  1.2],\n",
        "        [ 6. ,  2.7,  5.1,  1.6],\n",
        "        [ 5.4,  3. ,  4.5,  1.5],\n",
        "        [ 6. ,  3.4,  4.5,  1.6],\n",
        "        [ 6.7,  3.1,  4.7,  1.5],\n",
        "        [ 6.3,  2.3,  4.4,  1.3],\n",
        "        [ 5.6,  3. ,  4.1,  1.3],\n",
        "        [ 5.5,  2.5,  4. ,  1.3],\n",
        "        [ 5.5,  2.6,  4.4,  1.2],\n",
        "        [ 6.1,  3. ,  4.6,  1.4],\n",
        "        [ 5.8,  2.6,  4. ,  1.2],\n",
        "        [ 5. ,  2.3,  3.3,  1. ],\n",
        "        [ 5.6,  2.7,  4.2,  1.3],\n",
        "        [ 5.7,  3. ,  4.2,  1.2],\n",
        "        [ 5.7,  2.9,  4.2,  1.3],\n",
        "        [ 6.2,  2.9,  4.3,  1.3],\n",
        "        [ 5.1,  2.5,  3. ,  1.1],\n",
        "        [ 5.7,  2.8,  4.1,  1.3],\n",
        "        [ 6.3,  3.3,  6. ,  2.5],\n",
        "        [ 5.8,  2.7,  5.1,  1.9],\n",
        "        [ 7.1,  3. ,  5.9,  2.1],\n",
        "        [ 6.3,  2.9,  5.6,  1.8],\n",
        "        [ 6.5,  3. ,  5.8,  2.2],\n",
        "        [ 7.6,  3. ,  6.6,  2.1],\n",
        "        [ 4.9,  2.5,  4.5,  1.7],\n",
        "        [ 7.3,  2.9,  6.3,  1.8],\n",
        "        [ 6.7,  2.5,  5.8,  1.8],\n",
        "        [ 7.2,  3.6,  6.1,  2.5],\n",
        "        [ 6.5,  3.2,  5.1,  2. ],\n",
        "        [ 6.4,  2.7,  5.3,  1.9],\n",
        "        [ 6.8,  3. ,  5.5,  2.1],\n",
        "        [ 5.7,  2.5,  5. ,  2. ],\n",
        "        [ 5.8,  2.8,  5.1,  2.4],\n",
        "        [ 6.4,  3.2,  5.3,  2.3],\n",
        "        [ 6.5,  3. ,  5.5,  1.8],\n",
        "        [ 7.7,  3.8,  6.7,  2.2],\n",
        "        [ 7.7,  2.6,  6.9,  2.3],\n",
        "        [ 6. ,  2.2,  5. ,  1.5],\n",
        "        [ 6.9,  3.2,  5.7,  2.3],\n",
        "        [ 5.6,  2.8,  4.9,  2. ],\n",
        "        [ 7.7,  2.8,  6.7,  2. ],\n",
        "        [ 6.3,  2.7,  4.9,  1.8],\n",
        "        [ 6.7,  3.3,  5.7,  2.1],\n",
        "        [ 7.2,  3.2,  6. ,  1.8],\n",
        "        [ 6.2,  2.8,  4.8,  1.8],\n",
        "        [ 6.1,  3. ,  4.9,  1.8],\n",
        "        [ 6.4,  2.8,  5.6,  2.1],\n",
        "        [ 7.2,  3. ,  5.8,  1.6],\n",
        "        [ 7.4,  2.8,  6.1,  1.9],\n",
        "        [ 7.9,  3.8,  6.4,  2. ],\n",
        "        [ 6.4,  2.8,  5.6,  2.2],\n",
        "        [ 6.3,  2.8,  5.1,  1.5],\n",
        "        [ 6.1,  2.6,  5.6,  1.4],\n",
        "        [ 7.7,  3. ,  6.1,  2.3],\n",
        "        [ 6.3,  3.4,  5.6,  2.4],\n",
        "        [ 6.4,  3.1,  5.5,  1.8],\n",
        "        [ 6. ,  3. ,  4.8,  1.8],\n",
        "        [ 6.9,  3.1,  5.4,  2.1],\n",
        "        [ 6.7,  3.1,  5.6,  2.4],\n",
        "        [ 6.9,  3.1,  5.1,  2.3],\n",
        "        [ 5.8,  2.7,  5.1,  1.9],\n",
        "        [ 6.8,  3.2,  5.9,  2.3],\n",
        "        [ 6.7,  3.3,  5.7,  2.5],\n",
        "        [ 6.7,  3. ,  5.2,  2.3],\n",
        "        [ 6.3,  2.5,  5. ,  1.9],\n",
        "        [ 6.5,  3. ,  5.2,  2. ],\n",
        "        [ 6.2,  3.4,  5.4,  2.3],\n",
        "        [ 5.9,  3. ,  5.1,  1.8]]),\n",
        " 'feature_names': ['sepal length (cm)',\n",
        "  'sepal width (cm)',\n",
        "  'petal length (cm)',\n",
        "  'petal width (cm)'],\n",
        " 'target': array([0, 0, 0, 0, 0, 0, 0, 0, 0, 0, 0, 0, 0, 0, 0, 0, 0, 0, 0, 0, 0, 0, 0,\n",
        "        0, 0, 0, 0, 0, 0, 0, 0, 0, 0, 0, 0, 0, 0, 0, 0, 0, 0, 0, 0, 0, 0, 0,\n",
        "        0, 0, 0, 0, 1, 1, 1, 1, 1, 1, 1, 1, 1, 1, 1, 1, 1, 1, 1, 1, 1, 1, 1,\n",
        "        1, 1, 1, 1, 1, 1, 1, 1, 1, 1, 1, 1, 1, 1, 1, 1, 1, 1, 1, 1, 1, 1, 1,\n",
        "        1, 1, 1, 1, 1, 1, 1, 1, 2, 2, 2, 2, 2, 2, 2, 2, 2, 2, 2, 2, 2, 2, 2,\n",
        "        2, 2, 2, 2, 2, 2, 2, 2, 2, 2, 2, 2, 2, 2, 2, 2, 2, 2, 2, 2, 2, 2, 2,\n",
        "        2, 2, 2, 2, 2, 2, 2, 2, 2, 2, 2, 2]),\n",
        " 'target_names': array(['setosa', 'versicolor', 'virginica'], \n",
        "       dtype='|S10')}"
       ]
      }
     ],
     "prompt_number": 3
    },
    {
     "cell_type": "code",
     "collapsed": false,
     "input": [
      "from sklearn.neighbors import KNeighborsClassifier\n",
      "knn = KNeighborsClassifier(n_neighbors=3,weights='uniform',algorithm='ball_tree')\n",
      "knnn = KNeighborsClassifier(n_neighbors=1,weights='uniform',algorithm='ball_tree')"
     ],
     "language": "python",
     "metadata": {},
     "outputs": [],
     "prompt_number": 29
    },
    {
     "cell_type": "markdown",
     "metadata": {},
     "source": [
      "<p>In the following we will focus on the first and third columns/features of the dataset</p>"
     ]
    },
    {
     "cell_type": "code",
     "collapsed": false,
     "input": [
      "X = iris.data[:,0:2:1]\n",
      "\n",
      "y = iris['target']"
     ],
     "language": "python",
     "metadata": {},
     "outputs": [],
     "prompt_number": 30
    },
    {
     "cell_type": "code",
     "collapsed": false,
     "input": [
      "X"
     ],
     "language": "python",
     "metadata": {},
     "outputs": [
      {
       "metadata": {},
       "output_type": "pyout",
       "prompt_number": 31,
       "text": [
        "array([[ 5.1,  3.5],\n",
        "       [ 4.9,  3. ],\n",
        "       [ 4.7,  3.2],\n",
        "       [ 4.6,  3.1],\n",
        "       [ 5. ,  3.6],\n",
        "       [ 5.4,  3.9],\n",
        "       [ 4.6,  3.4],\n",
        "       [ 5. ,  3.4],\n",
        "       [ 4.4,  2.9],\n",
        "       [ 4.9,  3.1],\n",
        "       [ 5.4,  3.7],\n",
        "       [ 4.8,  3.4],\n",
        "       [ 4.8,  3. ],\n",
        "       [ 4.3,  3. ],\n",
        "       [ 5.8,  4. ],\n",
        "       [ 5.7,  4.4],\n",
        "       [ 5.4,  3.9],\n",
        "       [ 5.1,  3.5],\n",
        "       [ 5.7,  3.8],\n",
        "       [ 5.1,  3.8],\n",
        "       [ 5.4,  3.4],\n",
        "       [ 5.1,  3.7],\n",
        "       [ 4.6,  3.6],\n",
        "       [ 5.1,  3.3],\n",
        "       [ 4.8,  3.4],\n",
        "       [ 5. ,  3. ],\n",
        "       [ 5. ,  3.4],\n",
        "       [ 5.2,  3.5],\n",
        "       [ 5.2,  3.4],\n",
        "       [ 4.7,  3.2],\n",
        "       [ 4.8,  3.1],\n",
        "       [ 5.4,  3.4],\n",
        "       [ 5.2,  4.1],\n",
        "       [ 5.5,  4.2],\n",
        "       [ 4.9,  3.1],\n",
        "       [ 5. ,  3.2],\n",
        "       [ 5.5,  3.5],\n",
        "       [ 4.9,  3.1],\n",
        "       [ 4.4,  3. ],\n",
        "       [ 5.1,  3.4],\n",
        "       [ 5. ,  3.5],\n",
        "       [ 4.5,  2.3],\n",
        "       [ 4.4,  3.2],\n",
        "       [ 5. ,  3.5],\n",
        "       [ 5.1,  3.8],\n",
        "       [ 4.8,  3. ],\n",
        "       [ 5.1,  3.8],\n",
        "       [ 4.6,  3.2],\n",
        "       [ 5.3,  3.7],\n",
        "       [ 5. ,  3.3],\n",
        "       [ 7. ,  3.2],\n",
        "       [ 6.4,  3.2],\n",
        "       [ 6.9,  3.1],\n",
        "       [ 5.5,  2.3],\n",
        "       [ 6.5,  2.8],\n",
        "       [ 5.7,  2.8],\n",
        "       [ 6.3,  3.3],\n",
        "       [ 4.9,  2.4],\n",
        "       [ 6.6,  2.9],\n",
        "       [ 5.2,  2.7],\n",
        "       [ 5. ,  2. ],\n",
        "       [ 5.9,  3. ],\n",
        "       [ 6. ,  2.2],\n",
        "       [ 6.1,  2.9],\n",
        "       [ 5.6,  2.9],\n",
        "       [ 6.7,  3.1],\n",
        "       [ 5.6,  3. ],\n",
        "       [ 5.8,  2.7],\n",
        "       [ 6.2,  2.2],\n",
        "       [ 5.6,  2.5],\n",
        "       [ 5.9,  3.2],\n",
        "       [ 6.1,  2.8],\n",
        "       [ 6.3,  2.5],\n",
        "       [ 6.1,  2.8],\n",
        "       [ 6.4,  2.9],\n",
        "       [ 6.6,  3. ],\n",
        "       [ 6.8,  2.8],\n",
        "       [ 6.7,  3. ],\n",
        "       [ 6. ,  2.9],\n",
        "       [ 5.7,  2.6],\n",
        "       [ 5.5,  2.4],\n",
        "       [ 5.5,  2.4],\n",
        "       [ 5.8,  2.7],\n",
        "       [ 6. ,  2.7],\n",
        "       [ 5.4,  3. ],\n",
        "       [ 6. ,  3.4],\n",
        "       [ 6.7,  3.1],\n",
        "       [ 6.3,  2.3],\n",
        "       [ 5.6,  3. ],\n",
        "       [ 5.5,  2.5],\n",
        "       [ 5.5,  2.6],\n",
        "       [ 6.1,  3. ],\n",
        "       [ 5.8,  2.6],\n",
        "       [ 5. ,  2.3],\n",
        "       [ 5.6,  2.7],\n",
        "       [ 5.7,  3. ],\n",
        "       [ 5.7,  2.9],\n",
        "       [ 6.2,  2.9],\n",
        "       [ 5.1,  2.5],\n",
        "       [ 5.7,  2.8],\n",
        "       [ 6.3,  3.3],\n",
        "       [ 5.8,  2.7],\n",
        "       [ 7.1,  3. ],\n",
        "       [ 6.3,  2.9],\n",
        "       [ 6.5,  3. ],\n",
        "       [ 7.6,  3. ],\n",
        "       [ 4.9,  2.5],\n",
        "       [ 7.3,  2.9],\n",
        "       [ 6.7,  2.5],\n",
        "       [ 7.2,  3.6],\n",
        "       [ 6.5,  3.2],\n",
        "       [ 6.4,  2.7],\n",
        "       [ 6.8,  3. ],\n",
        "       [ 5.7,  2.5],\n",
        "       [ 5.8,  2.8],\n",
        "       [ 6.4,  3.2],\n",
        "       [ 6.5,  3. ],\n",
        "       [ 7.7,  3.8],\n",
        "       [ 7.7,  2.6],\n",
        "       [ 6. ,  2.2],\n",
        "       [ 6.9,  3.2],\n",
        "       [ 5.6,  2.8],\n",
        "       [ 7.7,  2.8],\n",
        "       [ 6.3,  2.7],\n",
        "       [ 6.7,  3.3],\n",
        "       [ 7.2,  3.2],\n",
        "       [ 6.2,  2.8],\n",
        "       [ 6.1,  3. ],\n",
        "       [ 6.4,  2.8],\n",
        "       [ 7.2,  3. ],\n",
        "       [ 7.4,  2.8],\n",
        "       [ 7.9,  3.8],\n",
        "       [ 6.4,  2.8],\n",
        "       [ 6.3,  2.8],\n",
        "       [ 6.1,  2.6],\n",
        "       [ 7.7,  3. ],\n",
        "       [ 6.3,  3.4],\n",
        "       [ 6.4,  3.1],\n",
        "       [ 6. ,  3. ],\n",
        "       [ 6.9,  3.1],\n",
        "       [ 6.7,  3.1],\n",
        "       [ 6.9,  3.1],\n",
        "       [ 5.8,  2.7],\n",
        "       [ 6.8,  3.2],\n",
        "       [ 6.7,  3.3],\n",
        "       [ 6.7,  3. ],\n",
        "       [ 6.3,  2.5],\n",
        "       [ 6.5,  3. ],\n",
        "       [ 6.2,  3.4],\n",
        "       [ 5.9,  3. ]])"
       ]
      }
     ],
     "prompt_number": 31
    },
    {
     "cell_type": "markdown",
     "metadata": {},
     "source": [
      "<p>Now applying the algorithm to the data</p>"
     ]
    },
    {
     "cell_type": "code",
     "collapsed": false,
     "input": [
      " knn.fit(X,y)\n",
      "knnn.fit(X,y)"
     ],
     "language": "python",
     "metadata": {},
     "outputs": [
      {
       "metadata": {},
       "output_type": "pyout",
       "prompt_number": 32,
       "text": [
        "KNeighborsClassifier(algorithm='ball_tree', leaf_size=30, metric='minkowski',\n",
        "           n_neighbors=1, p=2, weights='uniform')"
       ]
      }
     ],
     "prompt_number": 32
    },
    {
     "cell_type": "markdown",
     "metadata": {},
     "source": [
      "<p>Next we can try to map the predictions by asking the prediction for several points in our features space :</p>"
     ]
    },
    {
     "cell_type": "code",
     "collapsed": false,
     "input": [
      "xx,yy = np.meshgrid(np.linspace(0.0,10.0,301),np.linspace(0.0,10.0,301))\n",
      "predict = knn.predict(np.c_[xx.ravel(),yy.ravel()])\n",
      "predict2 = knnn.predict(np.c_[xx.ravel(),yy.ravel()])\n",
      "\n",
      "Z = predict.reshape(np.shape(xx))\n",
      "Z2 = predict2.reshape(np.shape(xx))"
     ],
     "language": "python",
     "metadata": {},
     "outputs": [],
     "prompt_number": 33
    },
    {
     "cell_type": "code",
     "collapsed": false,
     "input": [
      "plt.figure(figsize=(7,7))\n",
      "plt.contourf(xx,yy,Z,3,alpha=0.5)\n",
      "plt.scatter(X.T[0],X.T[1],c=iris['target'])"
     ],
     "language": "python",
     "metadata": {},
     "outputs": [
      {
       "metadata": {},
       "output_type": "pyout",
       "prompt_number": 34,
       "text": [
        "<matplotlib.collections.PathCollection at 0x7faafb6c0510>"
       ]
      },
      {
       "metadata": {},
       "output_type": "display_data",
       "png": "[encoded data removed]",
       "text": [
        "<matplotlib.figure.Figure at 0x7faafb7dc790>"
       ]
      }
     ],
     "prompt_number": 34
    },
    {
     "cell_type": "markdown",
     "metadata": {},
     "source": [
      "<p>Now visualizing the result</p>"
     ]
    },
    {
     "cell_type": "code",
     "collapsed": false,
     "input": [
      "plt.figure(figsize=(7,7))\n",
      "plt.contourf(xx,yy,Z2,3,alpha=0.5)\n",
      "plt.scatter(X.T[0],X.T[1],c=iris['target'])\n",
      "plt.show"
     ],
     "language": "python",
     "metadata": {},
     "outputs": [
      {
       "metadata": {},
       "output_type": "pyout",
       "prompt_number": 35,
       "text": [
        "<function matplotlib.pyplot.show>"
       ]
      },
      {
       "metadata": {},
       "output_type": "display_data",
       "png": "[encoded data removed]",
       "text": [
        "<matplotlib.figure.Figure at 0x7faafb8303d0>"
       ]
      }
     ],
     "prompt_number": 35
    },
    {
     "cell_type": "markdown",
     "metadata": {},
     "source": [
      "<p>Using the informations at this addresse :<br>\n",
      "http://scikit-learn.org/stable/modules/generated/sklearn.neighbors.KNeighborsClassifier.html#sklearn.neighbors.KNeighborsClassifier\n",
      "<br>\n",
      "try different values for the different parameters</p>"
     ]
    },
    {
     "cell_type": "code",
     "collapsed": false,
     "input": [],
     "language": "python",
     "metadata": {},
     "outputs": []
    }
   ],
   "metadata": {}
  }
 ]
}